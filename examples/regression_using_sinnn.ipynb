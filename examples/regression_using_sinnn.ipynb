{
 "nbformat": 4,
 "nbformat_minor": 0,
 "metadata": {
  "colab": {
   "name": "regression_using_sinnn.ipynb",
   "provenance": [],
   "collapsed_sections": []
  },
  "kernelspec": {
   "name": "python3",
   "language": "python",
   "display_name": "Python 3"
  },
  "pycharm": {
   "stem_cell": {
    "cell_type": "raw",
    "source": [],
    "metadata": {
     "collapsed": false
    }
   }
  }
 },
 "cells": [
  {
   "cell_type": "markdown",
   "metadata": {
    "id": "CB8umTKhICSz"
   },
   "source": [
    "In this example, we will train a neural network using sinnn on the Bike Sharing Dataset"
   ]
  },
  {
   "cell_type": "code",
   "metadata": {
    "colab": {
     "base_uri": "https://localhost:8080/"
    },
    "id": "_3SSlg_3CVAQ",
    "outputId": "593584e3-59ac-4e38-b2b8-f2560ccd1191"
   },
   "source": [
    "!pip install sinnn"
   ],
   "execution_count": 38,
   "outputs": [
    {
     "output_type": "stream",
     "text": [
      "Requirement already satisfied: sinnn in /usr/local/lib/python3.6/dist-packages (0.0.1)\n",
      "Requirement already satisfied: numpy in /usr/local/lib/python3.6/dist-packages (from sinnn) (1.18.5)\n"
     ],
     "name": "stdout"
    }
   ]
  },
  {
   "cell_type": "code",
   "metadata": {
    "id": "iTNLbantCjB6"
   },
   "source": [
    "import numpy as np\n",
    "import urllib.request\n",
    "from numpy import genfromtxt\n",
    "from sinnn.Model import Model\n",
    "from sinnn.Layers import Dense, ReLU\n",
    "from sinnn.Losses import MSE\n",
    "from sinnn.utils import save_model, load_model"
   ],
   "execution_count": 39,
   "outputs": []
  },
  {
   "cell_type": "markdown",
   "metadata": {
    "id": "GI3K-3jiIffA"
   },
   "source": [
    "Downloading the dataset"
   ]
  },
  {
   "cell_type": "code",
   "metadata": {
    "colab": {
     "base_uri": "https://localhost:8080/"
    },
    "id": "wzWRmp6AD1bM",
    "outputId": "92bc26c5-082e-4544-8347-a9122fde06aa"
   },
   "source": [
    "urllib.request.urlretrieve(\"https://archive.ics.uci.edu/ml/machine-learning-databases/00275/Bike-Sharing-Dataset.zip\", \"Bike-Sharing-Dataset\")"
   ],
   "execution_count": 40,
   "outputs": [
    {
     "output_type": "execute_result",
     "data": {
      "text/plain": [
       "('Bike-Sharing-Dataset', <http.client.HTTPMessage at 0x7f63d39ebac8>)"
      ]
     },
     "metadata": {
      "tags": []
     },
     "execution_count": 40
    }
   ]
  },
  {
   "cell_type": "markdown",
   "metadata": {
    "id": "QKFDN9oOIukC"
   },
   "source": [
    "Expanding the dataset"
   ]
  },
  {
   "cell_type": "code",
   "metadata": {
    "colab": {
     "base_uri": "https://localhost:8080/"
    },
    "id": "a7tCce9ZED00",
    "outputId": "b0b44a2e-a9cd-4571-c223-03ff860831a7"
   },
   "source": [
    "!unzip Bike-Sharing-Dataset\n"
   ],
   "execution_count": 41,
   "outputs": [
    {
     "output_type": "stream",
     "text": [
      "Archive:  Bike-Sharing-Dataset\n",
      "replace Readme.txt? [y]es, [n]o, [A]ll, [N]one, [r]ename: a\n",
      "error:  invalid response [a]\n",
      "replace Readme.txt? [y]es, [n]o, [A]ll, [N]one, [r]ename: A\n",
      "  inflating: Readme.txt              \n",
      "  inflating: day.csv                 \n",
      "  inflating: hour.csv                \n"
     ],
     "name": "stdout"
    }
   ]
  },
  {
   "cell_type": "markdown",
   "metadata": {
    "id": "_52-yKONIzz9"
   },
   "source": [
    "After viewing the csv, we can see that the first row and coloumn (row and colums headings) needs to be removed from the data. We also remove the second column (date) as the year month and day are already available in later coloumns."
   ]
  },
  {
   "cell_type": "code",
   "metadata": {
    "id": "yZuk30mTEM8v"
   },
   "source": [
    "bike_data = genfromtxt('hour.csv', delimiter=',')[1:, 2:]"
   ],
   "execution_count": 42,
   "outputs": []
  },
  {
   "cell_type": "markdown",
   "metadata": {
    "id": "gou_oVCIJhyY"
   },
   "source": [
    "The data is shuffled before partitioning into train and test"
   ]
  },
  {
   "cell_type": "code",
   "metadata": {
    "id": "12jzRC6QEc53"
   },
   "source": [
    "np.random.shuffle(bike_data)\n",
    "x_train, y_train, x_test, y_test = bike_data[:9600, :-1], bike_data[:9600, -1:], bike_data[9600:, :-1], bike_data[9600:, -1:]"
   ],
   "execution_count": 43,
   "outputs": []
  },
  {
   "cell_type": "markdown",
   "metadata": {
    "id": "nYtcivygJsE6"
   },
   "source": [
    "A model object in intantiated with MSE loss_function. \n",
    "We add a neural network with 100 neurons in the first hidden layer, followed by ReLU, followed by 200 neurons in second hidden layer, again followed by ReLu. The output layer contains just 1 neuron and its activation will predict labels. We train the network over 10 epochs with a batch size of 32."
   ]
  },
  {
   "cell_type": "code",
   "metadata": {
    "colab": {
     "base_uri": "https://localhost:8080/"
    },
    "id": "V5GjRvr2FeJu",
    "outputId": "7e2198e4-7399-4f5a-bf24-118aa55dc3ff"
   },
   "source": [
    "model = Model(loss_function=MSE())\n",
    "model.add(Dense(100), ReLU(), Dense(200), ReLU(), Dense(1))\n",
    "model.train(x_train, y_train, 32, 10, (x_test, y_test))"
   ],
   "execution_count": 44,
   "outputs": [
    {
     "output_type": "stream",
     "text": [
      "{'Epochs': 0, 'train_loss': 69387.9892051373, 'validation_loss': 71735.89503205878}\n",
      "{'Epochs': 1, 'train_loss': 0.14338706155367886, 'validation_loss': 0.14458997274158625}\n",
      "{'Epochs': 2, 'train_loss': 0.060812382974511504, 'validation_loss': 0.06160691837671004}\n",
      "{'Epochs': 3, 'train_loss': 0.031050337708793466, 'validation_loss': 0.03156223057181988}\n",
      "{'Epochs': 4, 'train_loss': 0.01782567683906422, 'validation_loss': 0.018142769425156312}\n",
      "{'Epochs': 5, 'train_loss': 0.010936234228141372, 'validation_loss': 0.011110760226808956}\n",
      "{'Epochs': 6, 'train_loss': 0.007236848933563557, 'validation_loss': 0.007330854723268884}\n",
      "{'Epochs': 7, 'train_loss': 0.005126745418580676, 'validation_loss': 0.005176672322206588}\n",
      "{'Epochs': 8, 'train_loss': 0.0038213336319642285, 'validation_loss': 0.0038477783243219613}\n",
      "{'Epochs': 9, 'train_loss': 0.0029834369676421855, 'validation_loss': 0.00299840727107661}\n",
      "{'Epochs': 10, 'train_loss': 0.00243094787238311, 'validation_loss': 0.002440080854853425}\n"
     ],
     "name": "stdout"
    }
   ]
  },
  {
   "cell_type": "markdown",
   "metadata": {
    "id": "b_Blph2eKfDB"
   },
   "source": [
    "After training the model we save the model immediately to prevent loss of data."
   ]
  },
  {
   "cell_type": "code",
   "metadata": {
    "id": "glDQH5eSFjOw"
   },
   "source": [
    "save_model(model)"
   ],
   "execution_count": 45,
   "outputs": []
  },
  {
   "cell_type": "markdown",
   "metadata": {
    "id": "nwqN0HDFKr_S"
   },
   "source": [
    "Model is loaded and all metrics plotted (For MSE only loss in supported.)"
   ]
  },
  {
   "cell_type": "code",
   "metadata": {
    "colab": {
     "base_uri": "https://localhost:8080/",
     "height": 279
    },
    "id": "wMrqf_kZFxJc",
    "outputId": "c581bd01-7f26-4bdd-f29c-3b145d3703cf"
   },
   "source": [
    "import matplotlib.pyplot as plt\n",
    "\n",
    "model = load_model()\n",
    "for metric in model.train_log:\n",
    "    for key in model.train_log[metric]:\n",
    "        plt.plot(model.train_log[metric][key], label=key)\n",
    "    plt.xlabel('Epochs')\n",
    "    plt.ylabel(metric)\n",
    "    plt.legend()\n",
    "    plt.show()"
   ],
   "execution_count": 46,
   "outputs": [
    {
     "output_type": "display_data",
     "data": {
      "image/png": "[encoded data removed]",
      "text/plain": [
       "<Figure size 432x288 with 1 Axes>"
      ]
     },
     "metadata": {
      "tags": [],
      "needs_background": "light"
     }
    }
   ]
  }
 ]
}
